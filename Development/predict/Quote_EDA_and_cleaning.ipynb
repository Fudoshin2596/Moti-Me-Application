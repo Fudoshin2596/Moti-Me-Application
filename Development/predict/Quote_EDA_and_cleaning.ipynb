{
  "nbformat": 4,
  "nbformat_minor": 0,
  "metadata": {
    "colab": {
      "name": "Quote_EDA_and_cleaning.ipynb",
      "provenance": [],
      "collapsed_sections": [],
      "toc_visible": true
    },
    "kernelspec": {
      "name": "python3",
      "display_name": "Python 3"
    },
    "accelerator": "GPU"
  },
  "cells": [
    {
      "cell_type": "markdown",
      "metadata": {
        "id": "NHVJZBqRoTp1"
      },
      "source": [
        "# Data cleaning and refactoring"
      ]
    },
    {
      "cell_type": "code",
      "metadata": {
        "id": "Mwne5zZqLKro"
      },
      "source": [
        "# !pip install --upgrade -q pip\n",
        "# !pip install -q textstat"
      ],
      "execution_count": 85,
      "outputs": []
    },
    {
      "cell_type": "markdown",
      "metadata": {
        "id": "_cIXgsEGoeZa"
      },
      "source": [
        "## Step 1: Importing the required libraries."
      ]
    },
    {
      "cell_type": "code",
      "metadata": {
        "id": "qx5tE-3ZGNwU"
      },
      "source": [
        "# Base libraries.\n",
        "import os \n",
        "import gc\n",
        "import random\n",
        "from statistics import median\n",
        "\n",
        "# Suppress warnings in cells to improve readability\n",
        "import warnings  \n",
        "warnings.filterwarnings('ignore')\n",
        "\n",
        "# Data analysis libraries\n",
        "import numpy as np \n",
        "import pandas as pd \n",
        "\n",
        "# This line tells the notebook to show plots inside of the notebook\n",
        "%matplotlib inline\n",
        "# Data cisualization libraries\n",
        "import matplotlib.pyplot as plt\n",
        "import seaborn as sb\n",
        "\n",
        "#Textstat is an easy to use library to calculate statistics from text. It helps determine readability, complexity, and grade level.\n",
        "from textstat import flesch_reading_ease \n",
        "\n",
        "# External libraries\n",
        "from keras.utils import to_categorical\n",
        "from sklearn.utils import resample\n",
        "\n",
        "# Connect to Google Drive\n",
        "from google.colab import drive, files\n",
        "\n",
        "# Upload Quotes.csv\n",
        "Upload_File = False\n",
        "if Upload_File:\n",
        "  uploaded = files.upload()"
      ],
      "execution_count": 106,
      "outputs": []
    },
    {
      "cell_type": "code",
      "metadata": {
        "id": "ltdGMD2CLkPv",
        "colab": {
          "base_uri": "https://localhost:8080/"
        },
        "outputId": "e93265cc-b82c-40c5-85a1-58b283fafa7b"
      },
      "source": [
        "# Set key data paths\n",
        "drive.mount('/content/gdrive')\n",
        "INPUT_DIR = '/content/gdrive/My Drive/'"
      ],
      "execution_count": 107,
      "outputs": [
        {
          "output_type": "stream",
          "text": [
            "Drive already mounted at /content/gdrive; to attempt to forcibly remount, call drive.mount(\"/content/gdrive\", force_remount=True).\n"
          ],
          "name": "stdout"
        }
      ]
    },
    {
      "cell_type": "code",
      "metadata": {
        "id": "WzD_kTlPgktG",
        "colab": {
          "base_uri": "https://localhost:8080/"
        },
        "outputId": "5a6a4def-956f-495a-e7b3-8eef20be854d"
      },
      "source": [
        "# Import raw csv data, set column names \n",
        "rawDf = pd.read_csv(INPUT_DIR + \"Quotes.csv\", delimiter=';', header=None, names=['quote', 'author', 'label'])\n",
        "rawDf.drop(columns=\"author\", inplace=True)\n",
        "print(f'Dataset orginally has {rawDf.shape[0]} rows')"
      ],
      "execution_count": 108,
      "outputs": [
        {
          "output_type": "stream",
          "text": [
            "Dataset orginally has 75966 rows\n"
          ],
          "name": "stdout"
        }
      ]
    },
    {
      "cell_type": "markdown",
      "metadata": {
        "id": "Zp3ZmZ1HtCJ8"
      },
      "source": [
        "# Exploratory Data Analysis"
      ]
    },
    {
      "cell_type": "code",
      "metadata": {
        "colab": {
          "base_uri": "https://localhost:8080/"
        },
        "id": "G7IKF2N8fv3j",
        "outputId": "c1ea7bda-bbd9-44b2-9955-1121e59fa1fb"
      },
      "source": [
        "# Drop NA data\n",
        "rawDf = rawDf.dropna()\n",
        "print(f'Dataset excluding NAs has {rawDf.shape[0]} rows')"
      ],
      "execution_count": 109,
      "outputs": [
        {
          "output_type": "stream",
          "text": [
            "Dataset excluding NAs has 75961 rows\n"
          ],
          "name": "stdout"
        }
      ]
    },
    {
      "cell_type": "markdown",
      "metadata": {
        "id": "ODmWRrW_viRV"
      },
      "source": [
        "## Explore quote complexity\n",
        "\n",
        "**Flesch Reading Ease (FRE):** Higher scores indicate material that is easier to read, lower numbers mark harder-to-read passages: \n",
        "*   0-30 College\n",
        "*   50-60 High school\n",
        "*   60+ Fourth grade. \n",
        "\n",
        "Calaculated as FRE = 206.835 − 1.015 *(total words/total sentences) − 84.6 * (total syllables/ total words)"
      ]
    },
    {
      "cell_type": "code",
      "metadata": {
        "id": "kt8ky9aBtK3r"
      },
      "source": [
        "def plot_quote_complexity_histogram(quote):\n",
        "    quote.\\\n",
        "        apply(lambda x : flesch_reading_ease(x)).\\\n",
        "        hist()"
      ],
      "execution_count": 90,
      "outputs": []
    },
    {
      "cell_type": "code",
      "metadata": {
        "colab": {
          "base_uri": "https://localhost:8080/",
          "height": 265
        },
        "id": "-jrJedoOumW4",
        "outputId": "2d8314a2-8d50-4700-fbae-a39b414a55e6"
      },
      "source": [
        "plot_quote_complexity_histogram(rawDf['quote'])"
      ],
      "execution_count": 91,
      "outputs": [
        {
          "output_type": "display_data",
          "data": {
            "image/png": "[encoded data removed]",
            "text/plain": [
              "<Figure size 432x288 with 1 Axes>"
            ]
          },
          "metadata": {
            "tags": [],
            "needs_background": "light"
          }
        }
      ]
    },
    {
      "cell_type": "markdown",
      "metadata": {
        "id": "cVLECJr9zCxj"
      },
      "source": [
        "On the x-axis most quotes have a score between 50 - 100. So the average high school student can read and understand them."
      ]
    },
    {
      "cell_type": "code",
      "metadata": {
        "id": "oaRPL5jgz1cK"
      },
      "source": [
        "def createCategoryDf(df):\n",
        "  # group by category, count distinct subreddits and posts\n",
        "  cat_df = df.groupby('label') \\\n",
        "            .agg({'quote': pd.Series.nunique,\n",
        "                  'quote': pd.Series.count}) \\\n",
        "            .rename(columns={'quote': 'num_quotes'}) \\\n",
        "            .sort_values('num_quotes', ascending=False)\n",
        "  return cat_df\n",
        "\n",
        "cat_df = createCategoryDf(rawDf)"
      ],
      "execution_count": 92,
      "outputs": []
    },
    {
      "cell_type": "code",
      "metadata": {
        "colab": {
          "base_uri": "https://localhost:8080/",
          "height": 297
        },
        "id": "UAxH-o-W0aTp",
        "outputId": "2ef75167-fbda-4b69-9800-88cab41bdd6f"
      },
      "source": [
        "# See basic statistics of dataframe\n",
        "cat_df.describe()"
      ],
      "execution_count": 93,
      "outputs": [
        {
          "output_type": "execute_result",
          "data": {
            "text/html": [
              "<div>\n",
              "<style scoped>\n",
              "    .dataframe tbody tr th:only-of-type {\n",
              "        vertical-align: middle;\n",
              "    }\n",
              "\n",
              "    .dataframe tbody tr th {\n",
              "        vertical-align: top;\n",
              "    }\n",
              "\n",
              "    .dataframe thead th {\n",
              "        text-align: right;\n",
              "    }\n",
              "</style>\n",
              "<table border=\"1\" class=\"dataframe\">\n",
              "  <thead>\n",
              "    <tr style=\"text-align: right;\">\n",
              "      <th></th>\n",
              "      <th>num_quotes</th>\n",
              "    </tr>\n",
              "  </thead>\n",
              "  <tbody>\n",
              "    <tr>\n",
              "      <th>count</th>\n",
              "      <td>117.000000</td>\n",
              "    </tr>\n",
              "    <tr>\n",
              "      <th>mean</th>\n",
              "      <td>649.239316</td>\n",
              "    </tr>\n",
              "    <tr>\n",
              "      <th>std</th>\n",
              "      <td>376.667366</td>\n",
              "    </tr>\n",
              "    <tr>\n",
              "      <th>min</th>\n",
              "      <td>12.000000</td>\n",
              "    </tr>\n",
              "    <tr>\n",
              "      <th>25%</th>\n",
              "      <td>259.000000</td>\n",
              "    </tr>\n",
              "    <tr>\n",
              "      <th>50%</th>\n",
              "      <td>799.000000</td>\n",
              "    </tr>\n",
              "    <tr>\n",
              "      <th>75%</th>\n",
              "      <td>999.000000</td>\n",
              "    </tr>\n",
              "    <tr>\n",
              "      <th>max</th>\n",
              "      <td>1000.000000</td>\n",
              "    </tr>\n",
              "  </tbody>\n",
              "</table>\n",
              "</div>"
            ],
            "text/plain": [
              "        num_quotes\n",
              "count   117.000000\n",
              "mean    649.239316\n",
              "std     376.667366\n",
              "min      12.000000\n",
              "25%     259.000000\n",
              "50%     799.000000\n",
              "75%     999.000000\n",
              "max    1000.000000"
            ]
          },
          "metadata": {
            "tags": []
          },
          "execution_count": 93
        }
      ]
    },
    {
      "cell_type": "markdown",
      "metadata": {
        "id": "rytl5XRL0gUa"
      },
      "source": [
        "There are 117 categories, with on average ~650 quotes for each category with a std of ~375."
      ]
    },
    {
      "cell_type": "code",
      "metadata": {
        "colab": {
          "base_uri": "https://localhost:8080/",
          "height": 157
        },
        "id": "98Q3qVvk0wYD",
        "outputId": "8846a5ab-ef65-4a77-a4e5-47c2deb4263f"
      },
      "source": [
        "# horizontal boxplot of a dataframe column\n",
        "cat_df[['num_quotes']].plot(kind='box', vert=False, figsize=(6, 2));"
      ],
      "execution_count": 94,
      "outputs": [
        {
          "output_type": "display_data",
          "data": {
            "image/png": "[encoded data removed]",
            "text/plain": [
              "<Figure size 432x144 with 1 Axes>"
            ]
          },
          "metadata": {
            "tags": [],
            "needs_background": "light"
          }
        }
      ]
    },
    {
      "cell_type": "markdown",
      "metadata": {
        "id": "WoGxN_EuaQ9p"
      },
      "source": [
        "# Data cleaning and refactoring\n"
      ]
    },
    {
      "cell_type": "code",
      "metadata": {
        "colab": {
          "base_uri": "https://localhost:8080/",
          "height": 204
        },
        "id": "fUfFFSXwrXWO",
        "outputId": "95dea0ff-18a8-4da1-9441-afb0addf8d36"
      },
      "source": [
        "# clean quotes for special characters and other \n",
        "def preprocess(rawQuoteText):\n",
        "    rawQuoteText = rawQuoteText.str.replace(\"(<br/>)\", '')\n",
        "    rawQuoteText = rawQuoteText.str.replace('(<a).*(>).*(</a>)', '')\n",
        "    rawQuoteText = rawQuoteText.str.replace('(&amp)', '')\n",
        "    rawQuoteText = rawQuoteText.str.replace('(&gt)', '')\n",
        "    rawQuoteText = rawQuoteText.str.replace('(&lt)', '')\n",
        "    rawQuoteText = rawQuoteText.str.replace('(\\xa0)', ' ')\n",
        "    rawQuoteText = rawQuoteText.str.replace('\"', '')\n",
        "    rawQuoteText = rawQuoteText.str.replace(\"'\", '') \n",
        "    return rawQuoteText\n",
        "\n",
        "rawDf['quote'] = preprocess(rawDf['quote'])\n",
        "rawDf.head()"
      ],
      "execution_count": 110,
      "outputs": [
        {
          "output_type": "execute_result",
          "data": {
            "text/html": [
              "<div>\n",
              "<style scoped>\n",
              "    .dataframe tbody tr th:only-of-type {\n",
              "        vertical-align: middle;\n",
              "    }\n",
              "\n",
              "    .dataframe tbody tr th {\n",
              "        vertical-align: top;\n",
              "    }\n",
              "\n",
              "    .dataframe thead th {\n",
              "        text-align: right;\n",
              "    }\n",
              "</style>\n",
              "<table border=\"1\" class=\"dataframe\">\n",
              "  <thead>\n",
              "    <tr style=\"text-align: right;\">\n",
              "      <th></th>\n",
              "      <th>quote</th>\n",
              "      <th>label</th>\n",
              "    </tr>\n",
              "  </thead>\n",
              "  <tbody>\n",
              "    <tr>\n",
              "      <th>0</th>\n",
              "      <td>Age is an issue of mind over matter. If you do...</td>\n",
              "      <td>age</td>\n",
              "    </tr>\n",
              "    <tr>\n",
              "      <th>1</th>\n",
              "      <td>Anyone who stops learning is old whether at tw...</td>\n",
              "      <td>age</td>\n",
              "    </tr>\n",
              "    <tr>\n",
              "      <th>2</th>\n",
              "      <td>Wrinkles should merely indicate where smiles h...</td>\n",
              "      <td>age</td>\n",
              "    </tr>\n",
              "    <tr>\n",
              "      <th>3</th>\n",
              "      <td>True terror is to wake up one morning and disc...</td>\n",
              "      <td>age</td>\n",
              "    </tr>\n",
              "    <tr>\n",
              "      <th>4</th>\n",
              "      <td>A diplomat is a man who always remembers a wom...</td>\n",
              "      <td>age</td>\n",
              "    </tr>\n",
              "  </tbody>\n",
              "</table>\n",
              "</div>"
            ],
            "text/plain": [
              "                                               quote label\n",
              "0  Age is an issue of mind over matter. If you do...   age\n",
              "1  Anyone who stops learning is old whether at tw...   age\n",
              "2  Wrinkles should merely indicate where smiles h...   age\n",
              "3  True terror is to wake up one morning and disc...   age\n",
              "4  A diplomat is a man who always remembers a wom...   age"
            ]
          },
          "metadata": {
            "tags": []
          },
          "execution_count": 110
        }
      ]
    },
    {
      "cell_type": "code",
      "metadata": {
        "id": "gM1IpgQXIyP2",
        "colab": {
          "base_uri": "https://localhost:8080/",
          "height": 204
        },
        "outputId": "21d2a360-5171-4f7b-adb6-b23cc5e36f12"
      },
      "source": [
        "# drop some labels for quote categories i am not interested in\n",
        "all_labels = rawDf.label.unique()\n",
        "keep = ['amazing','art', 'attitude', 'beauty', 'best','business','change','communication','cool', 'courage','design','dreams', 'education','equality', 'experience', 'failure', 'family', 'famous', 'fear', 'finance', 'fitness', 'forgiveness', 'freedom', 'friendship', 'future',\n",
        "       'good','great','happiness', 'health','hope','imagination', 'inspirational', 'intelligence','knowledge', 'leadership', 'learning','life', 'love',\n",
        "       'money','motivational','movingon','patience','positive', 'power', 'relationship','respect', 'smile', 'society','strength', 'success', 'sympathy',\n",
        "       'thankful', 'time', 'trust','truth','wisdom','work']\n",
        "drop = [i for i in all_labels if i not in keep]\n",
        "\n",
        "# Consolidate remaining quote categories into 5 distinct groups\n",
        "for item in drop:\n",
        "    rawDf = rawDf.drop(rawDf.index[rawDf.label == item])\n",
        "\n",
        "group1 = ['art', 'design', 'education', 'learning', 'knowledge', 'intelligence']\n",
        "group2 = ['attitude', 'best', 'amazing', 'cool', 'courage',   'good', 'great', 'happiness','hope',  'inspirational','motivational',  'patience', 'positive', 'power','respect', 'smile']\n",
        "group3 = ['beauty', 'family', 'fitness', 'friendship', 'health', 'love','movingon', 'life','relationship', 'society', 'strength']\n",
        "group4 = ['work', 'business', 'communication', 'finance', 'leadership', 'money', 'famous', 'success']\n",
        "group5 = ['change', 'equality', 'fear', 'dreams', 'experience', 'failure', 'forgiveness', 'freedom','future', 'imagination',  'sympathy', 'thankful', 'time', 'trust', 'truth','wisdom']\n",
        "\n",
        "# create a list of our conditions\n",
        "conditions = [\n",
        "    (rawDf['label'].isin(group1)),\n",
        "    (rawDf['label'].isin(group2)),\n",
        "    (rawDf['label'].isin(group3)),\n",
        "    (rawDf['label'].isin(group4)),\n",
        "    (rawDf['label'].isin(group5))\n",
        "    ]\n",
        "\n",
        "# # create a list of the values we want to assign for each condition\n",
        "label_cols = ['thoughtful', 'emotional', 'personal', 'work', 'aspirations']\n",
        "\n",
        "# create a new column and use np.select to assign values to it using our lists as arguments\n",
        "rawDf['label2'] = np.select(conditions, label_cols)\n",
        "\n",
        "# display updated DataFrame\n",
        "rawDf.head()"
      ],
      "execution_count": 111,
      "outputs": [
        {
          "output_type": "execute_result",
          "data": {
            "text/html": [
              "<div>\n",
              "<style scoped>\n",
              "    .dataframe tbody tr th:only-of-type {\n",
              "        vertical-align: middle;\n",
              "    }\n",
              "\n",
              "    .dataframe tbody tr th {\n",
              "        vertical-align: top;\n",
              "    }\n",
              "\n",
              "    .dataframe thead th {\n",
              "        text-align: right;\n",
              "    }\n",
              "</style>\n",
              "<table border=\"1\" class=\"dataframe\">\n",
              "  <thead>\n",
              "    <tr style=\"text-align: right;\">\n",
              "      <th></th>\n",
              "      <th>quote</th>\n",
              "      <th>label</th>\n",
              "      <th>label2</th>\n",
              "    </tr>\n",
              "  </thead>\n",
              "  <tbody>\n",
              "    <tr>\n",
              "      <th>1997</th>\n",
              "      <td>Sometimes I think my husband is so amazing tha...</td>\n",
              "      <td>amazing</td>\n",
              "      <td>emotional</td>\n",
              "    </tr>\n",
              "    <tr>\n",
              "      <th>1998</th>\n",
              "      <td>If you tell people where to go but not how to ...</td>\n",
              "      <td>amazing</td>\n",
              "      <td>emotional</td>\n",
              "    </tr>\n",
              "    <tr>\n",
              "      <th>1999</th>\n",
              "      <td>It is amazing what you can accomplish if you d...</td>\n",
              "      <td>amazing</td>\n",
              "      <td>emotional</td>\n",
              "    </tr>\n",
              "    <tr>\n",
              "      <th>2000</th>\n",
              "      <td>If you set goals and go after them with all th...</td>\n",
              "      <td>amazing</td>\n",
              "      <td>emotional</td>\n",
              "    </tr>\n",
              "    <tr>\n",
              "      <th>2001</th>\n",
              "      <td>Nobody in life gets exactly what they thought ...</td>\n",
              "      <td>amazing</td>\n",
              "      <td>emotional</td>\n",
              "    </tr>\n",
              "  </tbody>\n",
              "</table>\n",
              "</div>"
            ],
            "text/plain": [
              "                                                  quote    label     label2\n",
              "1997  Sometimes I think my husband is so amazing tha...  amazing  emotional\n",
              "1998  If you tell people where to go but not how to ...  amazing  emotional\n",
              "1999  It is amazing what you can accomplish if you d...  amazing  emotional\n",
              "2000  If you set goals and go after them with all th...  amazing  emotional\n",
              "2001  Nobody in life gets exactly what they thought ...  amazing  emotional"
            ]
          },
          "metadata": {
            "tags": []
          },
          "execution_count": 111
        }
      ]
    },
    {
      "cell_type": "code",
      "metadata": {
        "id": "5eFKq_k7IyLi"
      },
      "source": [
        "# keep new labels\n",
        "rawDf.drop(columns=\"label\", inplace=True)\n",
        "rawDf = rawDf.rename(columns={\"label2\": \"label\"})"
      ],
      "execution_count": 112,
      "outputs": []
    },
    {
      "cell_type": "code",
      "metadata": {
        "id": "_Tedm2oTJuuy"
      },
      "source": [
        "# Save cleaned quotes as new csv file\n",
        "rawDf.to_csv (f'{INPUT_DIR}QuotesClean.csv', index = False, header=True)"
      ],
      "execution_count": 113,
      "outputs": []
    },
    {
      "cell_type": "markdown",
      "metadata": {
        "id": "pQKffta_dBjK"
      },
      "source": [
        "# Balance Quote Categories"
      ]
    },
    {
      "cell_type": "code",
      "metadata": {
        "id": "zVy4ib__W7WL",
        "colab": {
          "base_uri": "https://localhost:8080/"
        },
        "outputId": "05af5345-2cf5-4aea-9410-b32ffec58ded"
      },
      "source": [
        "# find average number of quotes in a group\n",
        "per_cat_count = rawDf.groupby('label').count().reset_index()\n",
        "average_count = int(per_cat_count.mean())\n",
        "average_count"
      ],
      "execution_count": 114,
      "outputs": [
        {
          "output_type": "execute_result",
          "data": {
            "text/plain": [
              "8406"
            ]
          },
          "metadata": {
            "tags": []
          },
          "execution_count": 114
        }
      ]
    },
    {
      "cell_type": "code",
      "metadata": {
        "id": "EXc4iRrCcM91",
        "colab": {
          "base_uri": "https://localhost:8080/"
        },
        "outputId": "0aa6d6af-e12e-4529-872c-58a76800cf2e"
      },
      "source": [
        "# save counts as a list \n",
        "counts = [j['quote'] for i,j in per_cat_count.iterrows()]\n",
        "sum(counts)"
      ],
      "execution_count": 115,
      "outputs": [
        {
          "output_type": "execute_result",
          "data": {
            "text/plain": [
              "42030"
            ]
          },
          "metadata": {
            "tags": []
          },
          "execution_count": 115
        }
      ]
    },
    {
      "cell_type": "code",
      "metadata": {
        "id": "7OFKSIc6Yr-y",
        "colab": {
          "base_uri": "https://localhost:8080/"
        },
        "outputId": "845f2857-bbdf-4104-c9c1-1cdb00a728aa"
      },
      "source": [
        "# get count of quotes per category\n",
        "for i, j in per_cat_count.iterrows(): \n",
        "    print(f\"{j['label']} | {j['quote']}\")  "
      ],
      "execution_count": 116,
      "outputs": [
        {
          "output_type": "stream",
          "text": [
            "aspirations | 11478\n",
            "emotional | 11406\n",
            "personal | 8379\n",
            "thoughtful | 5049\n",
            "work | 5718\n"
          ],
          "name": "stdout"
        }
      ]
    },
    {
      "cell_type": "code",
      "metadata": {
        "colab": {
          "base_uri": "https://localhost:8080/"
        },
        "id": "paNOiPALejXr",
        "outputId": "6fb3b78b-6f9e-4e37-9b13-ee924d82a482"
      },
      "source": [
        "\"\"\"\n",
        "aspirations | 11478\n",
        "emotional | 11406\n",
        "personal | 8379\n",
        "thoughtful | 5049\n",
        "work | 5718\n",
        "\n",
        "Upsample the three minority classes and downsample the two majority classes to average number. \n",
        "So ending total number of quotes is the same but groups are balanced \n",
        "\n",
        "\"\"\"\n",
        "\n",
        "seed = 895\n",
        "\n",
        "# Separate majority and minority classes\n",
        "df_majority1 = rawDf[rawDf.label=='aspirations']\n",
        "df_majority2 = rawDf[rawDf.label=='emotional']\n",
        "df_minority1 = rawDf[rawDf.label=='thoughtful']\n",
        "df_minority2 = rawDf[rawDf.label=='work']\n",
        "df_middle = rawDf[rawDf.label=='personal']\n",
        " \n",
        "# Upsample minority classes\n",
        "df_minority1_upsampled = resample(df_minority1, \n",
        "                                 replace=True,     # sample with replacement\n",
        "                                 n_samples=average_count,    # to match middle class\n",
        "                                 random_state=seed) # reproducible results\n",
        "\n",
        "df_minority2_upsampled = resample(df_minority2, \n",
        "                                 replace=True,     # sample with replacement\n",
        "                                 n_samples=average_count,    # to match middle class\n",
        "                                 random_state=seed) # reproducible results\n",
        "\n",
        "df_middle_upsampled = resample(df_middle, \n",
        "                                 replace=True,     # sample with replacement\n",
        "                                 n_samples=average_count,    # to match middle class\n",
        "                                 random_state=seed) # reproducible results\n",
        "\n",
        "# Downsample majority classes\n",
        "df_majority1_downsampled = resample(df_majority1, \n",
        "                                 replace=False,    # sample without replacement\n",
        "                                 n_samples=average_count,    # to match middle class\n",
        "                                 random_state=seed) # reproducible results\n",
        "\n",
        "df_majority2_downsampled = resample(df_majority2, \n",
        "                                 replace=False,    # sample without replacement\n",
        "                                 n_samples=average_count,    # to match middle class\n",
        "                                 random_state=seed) # reproducible results\n",
        "\n",
        "\n",
        "# Combine middle class with upsampled and downsamples classes\n",
        "dfBalanced = pd.concat([df_middle_upsampled, df_minority1_upsampled, df_minority2_upsampled, df_majority1_downsampled, df_majority2_downsampled])\n",
        " \n",
        "# Display new class counts\n",
        "# get count of quotes per category\n",
        "balanced_cat_count = dfBalanced.groupby('label').count().reset_index()\n",
        "for i, j in balanced_cat_count.iterrows(): \n",
        "    print(f\"{j['label']} | {j['quote']}\") "
      ],
      "execution_count": 117,
      "outputs": [
        {
          "output_type": "stream",
          "text": [
            "aspirations | 8406\n",
            "emotional | 8406\n",
            "personal | 8406\n",
            "thoughtful | 8406\n",
            "work | 8406\n"
          ],
          "name": "stdout"
        }
      ]
    },
    {
      "cell_type": "code",
      "metadata": {
        "id": "0zk1kbWtXvF1"
      },
      "source": [
        "# Export as a new cvs the balanced dataset \n",
        "dfBalanced.to_csv (f'{INPUT_DIR}BalancedQuotesClean.csv', index = False, header=True)"
      ],
      "execution_count": 118,
      "outputs": []
    },
    {
      "cell_type": "code",
      "metadata": {
        "id": "YzewoWWCXvAj",
        "colab": {
          "base_uri": "https://localhost:8080/"
        },
        "outputId": "8f6de082-14a5-4c44-c3fb-a6902036f8c4"
      },
      "source": [
        "# View a sample of 5 quotes\n",
        "tes = [item for item in dfBalanced['quote'].sample(5)]\n",
        "tes"
      ],
      "execution_count": 130,
      "outputs": [
        {
          "output_type": "execute_result",
          "data": {
            "text/plain": [
              "['The best thing about acting is that I get to lose myself in another character and actually get paid for it... Its a great outlet. Im not really sure who I am - it seems I change every day.',\n",
              " 'This also turned out to be negative so there is no material in the Central Intelligence Agency either in the records or in the mind of any of the individuals that there was any contact had or even contemplated with him.',\n",
              " 'Yes you must have the courage of being free.',\n",
              " 'Friendship... is not something you learn in school. But if you havent learned the meaning of friendship you really havent learned anything.',\n",
              " 'Without pain there would be no suffering without suffering we would never learn from our mistakes. To make it right pain and suffering is the key to all windows without it there is no way of life.']"
            ]
          },
          "metadata": {
            "tags": []
          },
          "execution_count": 130
        }
      ]
    }
  ]
}